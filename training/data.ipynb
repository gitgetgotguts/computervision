{
 "cells": [
  {
   "cell_type": "code",
   "execution_count": 5,
   "id": "09b53c81",
   "metadata": {},
   "outputs": [
    {
     "name": "stdout",
     "output_type": "stream",
     "text": [
      "Saved normalized dataset (5278 rows) to 'normalized_data.csv'\n"
     ]
    }
   ],
   "source": [
    "import pandas as pd\n",
    "import numpy as np\n",
    "\n",
    "# Load data\n",
    "up = pd.read_csv(\"up.csv\")\n",
    "down = pd.read_csv(\"down.csv\")\n",
    "other = pd.read_csv(\"rand.csv\")\n",
    "others= pd.read_csv(\"randi.csv\")\n",
    "# Add labels\n",
    "up[\"label\"] = 0\n",
    "down[\"label\"] = 1\n",
    "other[\"label\"] = 2\n",
    "others[\"label\"] = 2\n",
    "\n",
    "# Combine\n",
    "df = pd.concat([up, down, other,others], ignore_index=True)\n",
    "\n",
    "# Shuffle\n",
    "df = df.sample(frac=1).reset_index(drop=True)\n",
    "import pandas as pd\n",
    "import numpy as np\n",
    "\n",
    "def normalize_landmarks(landmark_list):\n",
    "    \"\"\"\n",
    "    Normalize a flat list/array of 63 values (21 × (x,y,z)):\n",
    "      1) Recenter on the wrist (index 0)\n",
    "      2) Scale by distance wrist→middle fingertip (index 12)\n",
    "    \"\"\"\n",
    "    lm = np.array(landmark_list, dtype=float).reshape(21, 3)\n",
    "    wrist = lm[0].copy()\n",
    "    lm -= wrist\n",
    "    scale = np.linalg.norm(lm[12])\n",
    "    if scale > 0:\n",
    "        lm /= scale\n",
    "    return lm.flatten()\n",
    "\n",
    "def normalize_dataframe(df, label_col='label'):\n",
    "    features = df.drop(columns=[label_col])\n",
    "    labels   = df[label_col].values\n",
    "\n",
    "    X_norm = np.vstack([normalize_landmarks(row)\n",
    "                        for row in features.values])\n",
    "\n",
    "    df_norm = pd.DataFrame(X_norm, columns=features.columns)\n",
    "    df_norm[label_col] = labels\n",
    "    return df_norm\n",
    "\n",
    "# --- Usage with your data ---\n",
    "# (you already have `df` from up/down/other concatenation)\n",
    "\n",
    "df_normalized = normalize_dataframe(df)\n",
    "df_normalized.to_csv(\"normalized_data.csv\", index=False)\n",
    "df.to_csv(\"unnormalized_data.csv\", index=False)\n",
    "\n",
    "\n",
    "print(f\"Saved normalized dataset ({len(df_normalized)} rows) to 'normalized_data.csv'\")\n"
   ]
  }
 ],
 "metadata": {
  "kernelspec": {
   "display_name": ".venv",
   "language": "python",
   "name": "python3"
  },
  "language_info": {
   "codemirror_mode": {
    "name": "ipython",
    "version": 3
   },
   "file_extension": ".py",
   "mimetype": "text/x-python",
   "name": "python",
   "nbconvert_exporter": "python",
   "pygments_lexer": "ipython3",
   "version": "3.11.2"
  }
 },
 "nbformat": 4,
 "nbformat_minor": 5
}
